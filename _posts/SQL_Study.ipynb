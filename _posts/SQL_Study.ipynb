{
 "cells": [
  {
   "cell_type": "markdown",
   "metadata": {},
   "source": [
    "SQL 구성\n",
    "- 데이터 정의 언어\n",
    "    - create, alter, drop 등의 명령어\n",
    "- 데이터 조작 언어\n",
    "    -  insert, update, delete, select 등의 명령어 => DS들에게 특히 중요함\n",
    "- 데터터 제어 언어\n",
    "    - grant, revoke, commit, rollback"
   ]
  },
  {
   "cell_type": "markdown",
   "metadata": {},
   "source": [
    "character set utf8mb4  =>  utf8mb4는 다국어 지원 + 이모지 지원까지"
   ]
  },
  {
   "cell_type": "code",
   "execution_count": null,
   "metadata": {},
   "outputs": [],
   "source": [
    "select ~ from"
   ]
  },
  {
   "cell_type": "markdown",
   "metadata": {},
   "source": [
    "order by\n",
    "- select  문에서 특정 데이터를 기준으로 오름차순 or 내림차순 정렬\n",
    "- ASC 오름차순, DESC 내림차순"
   ]
  },
  {
   "cell_type": "markdown",
   "metadata": {},
   "source": [
    "## 논리연산자\n",
    "- AND\n",
    "    - 조건을 모두 만족하는 경우 TRUE\n",
    "- OR\n",
    "    - 두 가지 이상 조건 중 하나만 해당하면 TRUE\n",
    "- NOT\n",
    "    - 조건을 만족하지 않는 경우 TRUE\n",
    "- BETWEEN\n",
    "    - 조건이 범위 사이에 있으면 TRUE\n",
    "- IN\n",
    "    - 목록 안에 조건이 존재하는 경우 TRUE\n",
    "- LIKE\n",
    "    - 조건값이 패턴에 맞으면 TURE"
   ]
  },
  {
   "cell_type": "markdown",
   "metadata": {},
   "source": [
    "UNION\n",
    "\n",
    "- 여러개의 SQL 문을 합쳐서 하나의 SQL 문으로 만들어 주는 방법(주의. 칼럼의 갯수가 같아야 한다.)\n",
    "\n",
    "UNION 문법\n",
    "- UNION : 중복된 값을 제거하여 알려준다.\n",
    "- UNION ALL : 중복된 값을 포함하여 모두 보여준다.\n",
    "\n",
    "select column1, column2 --- from test1\n",
    "UNION | UNION ALL\n",
    "select column1, column2 --- from test2\n"
   ]
  },
  {
   "cell_type": "markdown",
   "metadata": {},
   "source": [
    "테이블 내용 변경\n",
    "- alter table '테이블명'\n",
    "    change column '변경전', '변경후' 'Type명'"
   ]
  },
  {
   "cell_type": "markdown",
   "metadata": {},
   "source": [
    "## JOIN\n",
    "- inner join\n",
    "    - 두개의 테이블에서 공통된 요소들을 통해 결합하는 조인방식(교집합)\n",
    "- left join\n",
    "    - 두개의 테이블에서 공통 영역을 포함하는데 왼쪽 테이블의 다른 데이터를 포함하는 조인 방식\n",
    "- right join\n",
    "    - 두개의 테이블에서 공통 영역을 포함하는데 오른쪽 테이블의 다른 데이터를 포함하는 조인방식\n",
    "- full outer join\n",
    "    - 두 개의 테이블에서 공통영역을 포함하여 양쪽 테이블의 다른 영역을 모두 포함하는 조인방식(합집합)\n",
    "    - MySQL에서는 FULL~JOIN방식을 지원하지 않음 => LEFT JOIN과 RIGHT JOIN을 UNION해서 출력\n",
    "- self join\n",
    "    - FROM에 합치고 싶은 테이블 모두 입력\n",
    "    - WHERE에 condition 입력"
   ]
  },
  {
   "cell_type": "markdown",
   "metadata": {},
   "source": [
    "self join 예제\n",
    "celeb 테이블의 연예인 중 snl_show에 출연했고,\n",
    "영화배우는 아니면서 YG엔터테인먼트 소속이거나,\n",
    "40세 이상이면서 YG엔터테인먼트 소속이 아닌 연예인의 \n",
    "이름과 나이, 직업, 소속사, 시즌, 에피소드 정보를 검색해주세요\n",
    "\n",
    "step1\n",
    "- celeb테이블에서 snl_show에 출연한 연예인\n",
    "- 영화배우는 아니고 YG엔터테인먼트 소속\n",
    "- OR 40세 이상이면서 YG엔터테인먼트 소속이 아닌 연옌의 이름, 나이, 직업, 소속사, 시즌, 에피소드 정보"
   ]
  },
  {
   "cell_type": "markdown",
   "metadata": {},
   "source": [
    "self join 예제 5\n",
    "snl_show 시즌 8에 출연한 celeb 중\n",
    "에피소드 7, 9, 10 중에 출연했거나,\n",
    "소속사가 YG로 시작하고 뒤에 6글자로 끝나는 사람 중\n",
    "작년 9월 15일에 출연했던 사람을 검색해주세요."
   ]
  },
  {
   "cell_type": "markdown",
   "metadata": {},
   "source": [
    "## CONCAT\n",
    "- 여러 문자열을 하나로 합치거나 연결\n"
   ]
  },
  {
   "cell_type": "markdown",
   "metadata": {},
   "source": [
    "## ALIAS\n",
    "- 컬럼이나 테이블에 이름 별칭 생성\n",
    "- 컬럼 또는 테이블에 사용가능"
   ]
  },
  {
   "cell_type": "markdown",
   "metadata": {},
   "source": [
    "## DISTINCT\n",
    "- 검색한 결과의 중복 제거"
   ]
  },
  {
   "cell_type": "markdown",
   "metadata": {},
   "source": [
    "## LIMIT\n",
    "- 검색결과를 정렬된 순으로 주어진 숫자만큼만 조회"
   ]
  },
  {
   "cell_type": "markdown",
   "metadata": {},
   "source": [
    "## flush privileges; > 새로고침"
   ]
  },
  {
   "cell_type": "markdown",
   "metadata": {},
   "source": [
    "#### 유저의 권한을 보는 방법\n",
    "- show grants for 'zero'@'%';\n",
    "\n",
    "#### 권한을 전부 넘기는 방법\n",
    "- grant all on zerobase.* to 'zero'@'%';\n",
    "\n",
    "#### 권한을 다시 빼앗는 방법\n",
    "- revoke all on zerobase.* from 'zero'@'%';"
   ]
  },
  {
   "cell_type": "code",
   "execution_count": null,
   "metadata": {},
   "outputs": [],
   "source": []
  },
  {
   "cell_type": "code",
   "execution_count": null,
   "metadata": {},
   "outputs": [],
   "source": []
  },
  {
   "cell_type": "code",
   "execution_count": null,
   "metadata": {},
   "outputs": [],
   "source": []
  },
  {
   "cell_type": "code",
   "execution_count": null,
   "metadata": {},
   "outputs": [],
   "source": []
  },
  {
   "cell_type": "code",
   "execution_count": null,
   "metadata": {},
   "outputs": [],
   "source": []
  }
 ],
 "metadata": {
  "kernelspec": {
   "display_name": "ds_study",
   "language": "python",
   "name": "python3"
  },
  "language_info": {
   "name": "python",
   "version": "3.8.17"
  },
  "orig_nbformat": 4
 },
 "nbformat": 4,
 "nbformat_minor": 2
}
